{
 "cells": [
  {
   "cell_type": "code",
   "execution_count": 19,
   "metadata": {},
   "outputs": [],
   "source": [
    "import json\n",
    "import requests\n",
    "import pandas as pd"
   ]
  },
  {
   "cell_type": "markdown",
   "metadata": {},
   "source": [
    "Only if you're using your environmental variable eith the `.env` file, import/install the following modules. Otherwise it is not necessary:\n",
    "\n",
    "https://pypi.org/project/python-dotenv/"
   ]
  },
  {
   "cell_type": "code",
   "execution_count": 2,
   "metadata": {},
   "outputs": [],
   "source": [
    "import os\n",
    "from dotenv import load_dotenv"
   ]
  },
  {
   "cell_type": "code",
   "execution_count": 7,
   "metadata": {},
   "outputs": [
    {
     "data": {
      "text/plain": [
       "True"
      ]
     },
     "execution_count": 7,
     "metadata": {},
     "output_type": "execute_result"
    }
   ],
   "source": [
    "load_dotenv()"
   ]
  },
  {
   "cell_type": "code",
   "execution_count": 11,
   "metadata": {},
   "outputs": [],
   "source": [
    "github_token = os.getenv(\"token\")\n",
    "user = 'Ironhack-data-bcn-january-2023'\n",
    "repo = 'lectures'\n",
    "url = f\"https://api.github.com/repos/{user}/{repo}/forks\"\n",
    "parameters = {\"Authorization\": f\"token {github_token}\"}\n"
   ]
  },
  {
   "cell_type": "markdown",
   "metadata": {},
   "source": [
    "# Challenge 1: Fork Languages\n",
    "\n",
    "You will find out how many programming languages are used among all the forks created from the main lab repo of your bootcamp. Assuming the main lab repo is ironhack-datalabs/datamad1020-rev, you will:\n",
    "\n",
    "1. Obtain the full list of forks created from the main lab repo via Github API.\n",
    "\n",
    "2. Loop the JSON response to find out the language attribute of each fork. Use an array to store the language attributes of each fork.\n",
    "\n",
    "Hint: Each language should appear only once in your array.\n",
    "\n",
    "3. Print the language array. It should be something like:\n",
    "\n",
    "[\"Python\", \"Jupyter Notebook\", \"HTML\"]\n"
   ]
  },
  {
   "cell_type": "markdown",
   "metadata": {},
   "source": [
    "**HINT:**: Create a list with every **language_url** you find in every fork "
   ]
  },
  {
   "cell_type": "markdown",
   "metadata": {},
   "source": [
    "⚠️ **Remember to limit your output before submission**."
   ]
  },
  {
   "cell_type": "code",
   "execution_count": 14,
   "metadata": {},
   "outputs": [],
   "source": [
    "# request1 = requests.get(url, params = parameters).json()\n",
    "\n",
    "\n"
   ]
  },
  {
   "cell_type": "code",
   "execution_count": 30,
   "metadata": {},
   "outputs": [
    {
     "name": "stdout",
     "output_type": "stream",
     "text": [
      "Index(['id', 'node_id', 'name', 'full_name', 'private', 'owner', 'html_url',\n",
      "       'description', 'fork', 'url', 'forks_url', 'keys_url',\n",
      "       'collaborators_url', 'teams_url', 'hooks_url', 'issue_events_url',\n",
      "       'events_url', 'assignees_url', 'branches_url', 'tags_url', 'blobs_url',\n",
      "       'git_tags_url', 'git_refs_url', 'trees_url', 'statuses_url',\n",
      "       'languages_url', 'stargazers_url', 'contributors_url',\n",
      "       'subscribers_url', 'subscription_url', 'commits_url', 'git_commits_url',\n",
      "       'comments_url', 'issue_comment_url', 'contents_url', 'compare_url',\n",
      "       'merges_url', 'archive_url', 'downloads_url', 'issues_url', 'pulls_url',\n",
      "       'milestones_url', 'notifications_url', 'labels_url', 'releases_url',\n",
      "       'deployments_url', 'created_at', 'updated_at', 'pushed_at', 'git_url',\n",
      "       'ssh_url', 'clone_url', 'svn_url', 'homepage', 'size',\n",
      "       'stargazers_count', 'watchers_count', 'language', 'has_issues',\n",
      "       'has_projects', 'has_downloads', 'has_wiki', 'has_pages',\n",
      "       'has_discussions', 'forks_count', 'mirror_url', 'archived', 'disabled',\n",
      "       'open_issues_count', 'license', 'allow_forking', 'is_template',\n",
      "       'web_commit_signoff_required', 'topics', 'visibility', 'forks',\n",
      "       'open_issues', 'watchers', 'default_branch'],\n",
      "      dtype='object')\n",
      "{None, 'Jupyter Notebook'}\n"
     ]
    }
   ],
   "source": [
    "request1 = request1\n",
    "requestdf= pd.DataFrame(request1)\n",
    "print (requestdf.columns)\n",
    "requestdf['language']\n",
    "list_lang =set()\n",
    "for i in requestdf['language']:\n",
    "    list_lang.add(i)\n",
    "print(list_lang)"
   ]
  }
 ],
 "metadata": {
  "kernelspec": {
   "display_name": "ironhack",
   "language": "python",
   "name": "python3"
  },
  "language_info": {
   "codemirror_mode": {
    "name": "ipython",
    "version": 3
   },
   "file_extension": ".py",
   "mimetype": "text/x-python",
   "name": "python",
   "nbconvert_exporter": "python",
   "pygments_lexer": "ipython3",
   "version": "3.10.4"
  },
  "toc": {
   "base_numbering": 1,
   "nav_menu": {},
   "number_sections": true,
   "sideBar": true,
   "skip_h1_title": true,
   "title_cell": "Table of Contents",
   "title_sidebar": "Contents",
   "toc_cell": false,
   "toc_position": {},
   "toc_section_display": true,
   "toc_window_display": false
  },
  "vscode": {
   "interpreter": {
    "hash": "1c9444b68867c30d2a4961dc1929e1f150fc2464829f75445635b349ec40f9a7"
   }
  }
 },
 "nbformat": 4,
 "nbformat_minor": 2
}
