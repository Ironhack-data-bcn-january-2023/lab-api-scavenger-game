{
 "cells": [
  {
   "cell_type": "markdown",
   "id": "threaded-asbestos",
   "metadata": {},
   "source": [
    "# Challenge 2: Count Commits\n",
    "\n",
    "Count how many commits were made in the past week.\n",
    "\n",
    "Obtain all the commits made in the past week via API, which is a JSON array that contains multiple commit objects.\n",
    "\n",
    "Count how many commit objects are contained in the array."
   ]
  },
  {
   "cell_type": "markdown",
   "id": "norwegian-praise",
   "metadata": {},
   "source": [
    "⚠️ **Remember to limit your output before submission**."
   ]
  },
  {
   "cell_type": "code",
   "execution_count": 56,
   "id": "developing-printing",
   "metadata": {},
   "outputs": [],
   "source": [
    "#Your code\n",
    "import os\n",
    "import requests\n",
    "user = \"Ironhack-data-bcn-january-2023\"\n",
    "repo = \"lectures\""
   ]
  },
  {
   "cell_type": "code",
   "execution_count": 57,
   "id": "5a724e26",
   "metadata": {},
   "outputs": [],
   "source": [
    "url = f'https://api.github.com/repos/{user}/{repo}/commits'"
   ]
  },
  {
   "cell_type": "code",
   "execution_count": 58,
   "id": "3a268065",
   "metadata": {},
   "outputs": [
    {
     "data": {
      "text/plain": [
       "'https://api.github.com/repos/Ironhack-data-bcn-january-2023/lectures/commits'"
      ]
     },
     "execution_count": 58,
     "metadata": {},
     "output_type": "execute_result"
    }
   ],
   "source": [
    "url"
   ]
  },
  {
   "cell_type": "code",
   "execution_count": 59,
   "id": "115a82b9",
   "metadata": {},
   "outputs": [],
   "source": [
    "github_token = os.getenv(\"token\")"
   ]
  },
  {
   "cell_type": "code",
   "execution_count": 60,
   "id": "9d7643e6",
   "metadata": {},
   "outputs": [],
   "source": [
    "parameters = {\"Authorization\": f\"token {github_token}\"}"
   ]
  },
  {
   "cell_type": "code",
   "execution_count": 110,
   "id": "083048d0",
   "metadata": {},
   "outputs": [],
   "source": [
    "commits = requests.get(url, params=parameters).json()"
   ]
  },
  {
   "cell_type": "code",
   "execution_count": 136,
   "id": "ec0273bf",
   "metadata": {},
   "outputs": [
    {
     "data": {
      "text/plain": [
       "18"
      ]
     },
     "execution_count": 136,
     "metadata": {},
     "output_type": "execute_result"
    }
   ],
   "source": [
    "reference_date = '2023-01-27'\n",
    "from datetime import datetime\n",
    "commit_count = 0\n",
    "\n",
    "for i in range(len(commits)):\n",
    "    if commits[i][\"commit\"]['author']['date'][:10] >= reference_date:\n",
    "        commit_count += 1\n",
    "\n",
    "commit_count"
   ]
  },
  {
   "cell_type": "code",
   "execution_count": 123,
   "id": "creative-stable",
   "metadata": {},
   "outputs": [],
   "source": [
    "# Example: print(variable[:10]) "
   ]
  }
 ],
 "metadata": {
  "kernelspec": {
   "display_name": "ironhack",
   "language": "python",
   "name": "python3"
  },
  "language_info": {
   "codemirror_mode": {
    "name": "ipython",
    "version": 3
   },
   "file_extension": ".py",
   "mimetype": "text/x-python",
   "name": "python",
   "nbconvert_exporter": "python",
   "pygments_lexer": "ipython3",
   "version": "3.9.12"
  },
  "toc": {
   "base_numbering": 1,
   "nav_menu": {},
   "number_sections": true,
   "sideBar": true,
   "skip_h1_title": true,
   "title_cell": "Table of Contents",
   "title_sidebar": "Contents",
   "toc_cell": false,
   "toc_position": {
    "height": "calc(100% - 180px)",
    "left": "10px",
    "top": "150px",
    "width": "288px"
   },
   "toc_section_display": true,
   "toc_window_display": true
  },
  "vscode": {
   "interpreter": {
    "hash": "79e8e12960902be9b96136e06f35e6a59d5d8c359e0492f5e08d8a671bbdf383"
   }
  }
 },
 "nbformat": 4,
 "nbformat_minor": 5
}
