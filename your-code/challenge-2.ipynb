{
 "cells": [
  {
   "cell_type": "markdown",
   "id": "threaded-asbestos",
   "metadata": {},
   "source": [
    "# Challenge 2: Count Commits\n",
    "\n",
    "Count how many commits were made in the past week.\n",
    "\n",
    "Obtain all the commits made in the past week via API, which is a JSON array that contains multiple commit objects.\n",
    "\n",
    "Count how many commit objects are contained in the array."
   ]
  },
  {
   "cell_type": "markdown",
   "id": "norwegian-praise",
   "metadata": {},
   "source": [
    "⚠️ **Remember to limit your output before submission**."
   ]
  },
  {
   "cell_type": "code",
   "execution_count": 3,
   "id": "developing-printing",
   "metadata": {},
   "outputs": [],
   "source": [
    "import json\n",
    "import requests\n",
    "import pandas as pd\n",
    "import os\n",
    "from dotenv import load_dotenv"
   ]
  },
  {
   "cell_type": "code",
   "execution_count": 4,
   "id": "creative-stable",
   "metadata": {},
   "outputs": [
    {
     "data": {
      "text/plain": [
       "True"
      ]
     },
     "execution_count": 4,
     "metadata": {},
     "output_type": "execute_result"
    }
   ],
   "source": [
    "load_dotenv()"
   ]
  },
  {
   "cell_type": "code",
   "execution_count": 18,
   "id": "ongoing-taylor",
   "metadata": {},
   "outputs": [
    {
     "data": {
      "text/plain": [
       "'https://api.github.com/repos/Ironhack-data-bcn-january-2023/lectures/stats/commit_activity'"
      ]
     },
     "execution_count": 18,
     "metadata": {},
     "output_type": "execute_result"
    }
   ],
   "source": [
    "ih_user = \"Ironhack-data-bcn-january-2023\"\n",
    "repo = \"lectures\"\n",
    "url = f\"https://api.github.com/repos/{ih_user}/{repo}/stats/commit_activity\"\n",
    "url"
   ]
  },
  {
   "cell_type": "code",
   "execution_count": 24,
   "id": "6282af86",
   "metadata": {},
   "outputs": [],
   "source": [
    "github_token = os.getenv(\"token\")\n",
    "parameters = {\"Authorization\": f\"token {github_token}\"}"
   ]
  },
  {
   "cell_type": "code",
   "execution_count": 32,
   "id": "d9afcace",
   "metadata": {},
   "outputs": [],
   "source": [
    "res = requests.get(url, params = parameters).json()\n",
    "# The API responds with a lists of dictionaries, one per week with the stats of the comits done in that week."
   ]
  },
  {
   "cell_type": "code",
   "execution_count": 37,
   "id": "f3b77397",
   "metadata": {},
   "outputs": [
    {
     "name": "stdout",
     "output_type": "stream",
     "text": [
      "40\n"
     ]
    }
   ],
   "source": [
    "#Since we are only interested in the total commits done in the last week (this week is not done), ill access the second to last entry in this list and get the value in the dictionary for \"total\"\n",
    "print(res[-2][\"total\"])"
   ]
  },
  {
   "cell_type": "code",
   "execution_count": 38,
   "id": "0377e05f",
   "metadata": {},
   "outputs": [
    {
     "data": {
      "text/plain": [
       "[{'days': [0, 0, 0, 0, 0, 0, 0], 'total': 0, 'week': 1644105600},\n",
       " {'days': [0, 0, 0, 0, 0, 0, 0], 'total': 0, 'week': 1644710400},\n",
       " {'days': [0, 0, 0, 0, 0, 0, 0], 'total': 0, 'week': 1645315200},\n",
       " {'days': [0, 0, 0, 0, 0, 0, 0], 'total': 0, 'week': 1645920000},\n",
       " {'days': [0, 0, 0, 0, 0, 0, 0], 'total': 0, 'week': 1646524800},\n",
       " {'days': [0, 0, 0, 0, 0, 0, 0], 'total': 0, 'week': 1647129600},\n",
       " {'days': [0, 0, 0, 0, 0, 0, 0], 'total': 0, 'week': 1647730800},\n",
       " {'days': [0, 0, 0, 0, 0, 0, 0], 'total': 0, 'week': 1648335600},\n",
       " {'days': [0, 0, 0, 0, 0, 0, 0], 'total': 0, 'week': 1648940400},\n",
       " {'days': [0, 0, 0, 0, 0, 0, 0], 'total': 0, 'week': 1649545200},\n",
       " {'days': [0, 0, 0, 0, 0, 0, 0], 'total': 0, 'week': 1650150000},\n",
       " {'days': [0, 0, 0, 0, 0, 0, 0], 'total': 0, 'week': 1650754800},\n",
       " {'days': [0, 0, 0, 0, 0, 0, 0], 'total': 0, 'week': 1651359600},\n",
       " {'days': [0, 0, 0, 0, 0, 0, 0], 'total': 0, 'week': 1651964400},\n",
       " {'days': [0, 0, 0, 0, 0, 0, 0], 'total': 0, 'week': 1652569200},\n",
       " {'days': [0, 0, 0, 0, 0, 0, 0], 'total': 0, 'week': 1653174000},\n",
       " {'days': [0, 0, 0, 0, 0, 0, 0], 'total': 0, 'week': 1653778800},\n",
       " {'days': [0, 0, 0, 0, 0, 0, 0], 'total': 0, 'week': 1654383600},\n",
       " {'days': [0, 0, 0, 0, 0, 0, 0], 'total': 0, 'week': 1654988400},\n",
       " {'days': [0, 0, 0, 0, 0, 0, 0], 'total': 0, 'week': 1655593200},\n",
       " {'days': [0, 0, 0, 0, 0, 0, 0], 'total': 0, 'week': 1656198000},\n",
       " {'days': [0, 0, 0, 0, 0, 0, 0], 'total': 0, 'week': 1656802800},\n",
       " {'days': [0, 0, 0, 0, 0, 0, 0], 'total': 0, 'week': 1657407600},\n",
       " {'days': [0, 0, 0, 0, 0, 0, 0], 'total': 0, 'week': 1658012400},\n",
       " {'days': [0, 0, 0, 0, 0, 0, 0], 'total': 0, 'week': 1658617200},\n",
       " {'days': [0, 0, 0, 0, 0, 0, 0], 'total': 0, 'week': 1659222000},\n",
       " {'days': [0, 0, 0, 0, 0, 0, 0], 'total': 0, 'week': 1659826800},\n",
       " {'days': [0, 0, 0, 0, 0, 0, 0], 'total': 0, 'week': 1660431600},\n",
       " {'days': [0, 0, 0, 0, 0, 0, 0], 'total': 0, 'week': 1661036400},\n",
       " {'days': [0, 0, 0, 0, 0, 0, 0], 'total': 0, 'week': 1661641200},\n",
       " {'days': [0, 0, 0, 0, 0, 0, 0], 'total': 0, 'week': 1662246000},\n",
       " {'days': [0, 0, 0, 0, 0, 0, 0], 'total': 0, 'week': 1662850800},\n",
       " {'days': [0, 0, 0, 0, 0, 0, 0], 'total': 0, 'week': 1663455600},\n",
       " {'days': [0, 0, 0, 0, 0, 0, 0], 'total': 0, 'week': 1664060400},\n",
       " {'days': [0, 0, 0, 0, 0, 0, 0], 'total': 0, 'week': 1664665200},\n",
       " {'days': [0, 0, 0, 0, 0, 0, 0], 'total': 0, 'week': 1665270000},\n",
       " {'days': [0, 0, 0, 0, 0, 0, 0], 'total': 0, 'week': 1665874800},\n",
       " {'days': [0, 0, 0, 0, 0, 0, 0], 'total': 0, 'week': 1666479600},\n",
       " {'days': [0, 0, 0, 0, 0, 0, 0], 'total': 0, 'week': 1667084400},\n",
       " {'days': [0, 0, 0, 0, 0, 0, 0], 'total': 0, 'week': 1667689200},\n",
       " {'days': [0, 0, 0, 0, 0, 0, 0], 'total': 0, 'week': 1668297600},\n",
       " {'days': [0, 0, 0, 0, 0, 0, 0], 'total': 0, 'week': 1668902400},\n",
       " {'days': [0, 0, 0, 0, 0, 0, 0], 'total': 0, 'week': 1669507200},\n",
       " {'days': [0, 0, 0, 0, 0, 0, 0], 'total': 0, 'week': 1670112000},\n",
       " {'days': [0, 0, 0, 0, 0, 0, 0], 'total': 0, 'week': 1670716800},\n",
       " {'days': [0, 0, 0, 0, 0, 0, 0], 'total': 0, 'week': 1671321600},\n",
       " {'days': [0, 0, 0, 0, 0, 0, 0], 'total': 0, 'week': 1671926400},\n",
       " {'days': [0, 0, 0, 0, 0, 0, 0], 'total': 0, 'week': 1672531200},\n",
       " {'days': [0, 0, 1, 0, 0, 0, 0], 'total': 1, 'week': 1673136000},\n",
       " {'days': [1, 6, 14, 10, 6, 6, 0], 'total': 43, 'week': 1673740800},\n",
       " {'days': [4, 6, 7, 9, 9, 5, 0], 'total': 40, 'week': 1674345600},\n",
       " {'days': [0, 1, 4, 2, 6, 0, 0], 'total': 13, 'week': 1674950400}]"
      ]
     },
     "execution_count": 38,
     "metadata": {},
     "output_type": "execute_result"
    }
   ],
   "source": [
    "res"
   ]
  },
  {
   "cell_type": "code",
   "execution_count": null,
   "id": "fb79cce4",
   "metadata": {},
   "outputs": [],
   "source": []
  }
 ],
 "metadata": {
  "kernelspec": {
   "display_name": "ironhack",
   "language": "python",
   "name": "python3"
  },
  "language_info": {
   "codemirror_mode": {
    "name": "ipython",
    "version": 3
   },
   "file_extension": ".py",
   "mimetype": "text/x-python",
   "name": "python",
   "nbconvert_exporter": "python",
   "pygments_lexer": "ipython3",
   "version": "3.9.12"
  },
  "toc": {
   "base_numbering": 1,
   "nav_menu": {},
   "number_sections": true,
   "sideBar": true,
   "skip_h1_title": true,
   "title_cell": "Table of Contents",
   "title_sidebar": "Contents",
   "toc_cell": false,
   "toc_position": {
    "height": "calc(100% - 180px)",
    "left": "10px",
    "top": "150px",
    "width": "288px"
   },
   "toc_section_display": true,
   "toc_window_display": true
  },
  "vscode": {
   "interpreter": {
    "hash": "040cc3bc635ced6b7bd06061cee05b180da847b8bda19980ce03d0b6ac3f4a36"
   }
  }
 },
 "nbformat": 4,
 "nbformat_minor": 5
}
