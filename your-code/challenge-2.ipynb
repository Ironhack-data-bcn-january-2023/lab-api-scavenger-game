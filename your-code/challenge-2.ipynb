{
 "cells": [
  {
   "cell_type": "markdown",
   "id": "threaded-asbestos",
   "metadata": {},
   "source": [
    "# Challenge 2: Count Commits\n",
    "\n",
    "Count how many commits were made in the past week.\n",
    "\n",
    "Obtain all the commits made in the past week via API, which is a JSON array that contains multiple commit objects.\n",
    "\n",
    "Count how many commit objects are contained in the array."
   ]
  },
  {
   "cell_type": "markdown",
   "id": "norwegian-praise",
   "metadata": {},
   "source": [
    "⚠️ **Remember to limit your output before submission**."
   ]
  },
  {
   "cell_type": "code",
   "execution_count": 46,
   "id": "51efe3f2",
   "metadata": {},
   "outputs": [],
   "source": [
    "import json\n",
    "import requests\n",
    "import os\n",
    "from dotenv import load_dotenv\n",
    "from datetime import datetime"
   ]
  },
  {
   "cell_type": "code",
   "execution_count": 47,
   "id": "3f0aef4c",
   "metadata": {},
   "outputs": [
    {
     "data": {
      "text/plain": [
       "True"
      ]
     },
     "execution_count": 47,
     "metadata": {},
     "output_type": "execute_result"
    }
   ],
   "source": [
    "load_dotenv()"
   ]
  },
  {
   "cell_type": "code",
   "execution_count": 48,
   "id": "developing-printing",
   "metadata": {},
   "outputs": [],
   "source": [
    "github_token = os.getenv(\"git_pass\")\n",
    "url =  f\"https://api.github.com/repos/Ironhack-data-bcn-january-2023/lab-api-scavenger-game/commits\"\n",
    "parameters = {\"Authorization\": f\"token {github_token}\"}\n",
    "res = requests.get(url, params = parameters).json()"
   ]
  },
  {
   "cell_type": "code",
   "execution_count": 49,
   "id": "creative-stable",
   "metadata": {},
   "outputs": [],
   "source": [
    "date_lim_str = \"2023-01-26\"\n",
    "date_limit = datetime.strptime(date_lim_str, '%Y-%m-%d') "
   ]
  },
  {
   "cell_type": "code",
   "execution_count": 50,
   "id": "ongoing-taylor",
   "metadata": {},
   "outputs": [
    {
     "name": "stdout",
     "output_type": "stream",
     "text": [
      "commits since 2023-01-26 is 2\n"
     ]
    }
   ],
   "source": [
    "\n",
    "list_1 = [res[i][\"commit\"][\"author\"][\"date\"][:10] for i in range(0,len(res))]\n",
    "list_filt = [datetime.strptime(i, '%Y-%m-%d') for i in list_1 if datetime.strptime(i, '%Y-%m-%d')>date_limit]\n",
    "n_commits = len(list_filt)\n",
    "print(f\"commits since {date_lim_str} is {n_commits}\")"
   ]
  }
 ],
 "metadata": {
  "kernelspec": {
   "display_name": "ironhack",
   "language": "python",
   "name": "ironhack"
  },
  "language_info": {
   "codemirror_mode": {
    "name": "ipython",
    "version": 3
   },
   "file_extension": ".py",
   "mimetype": "text/x-python",
   "name": "python",
   "nbconvert_exporter": "python",
   "pygments_lexer": "ipython3",
   "version": "3.10.8"
  },
  "toc": {
   "base_numbering": 1,
   "nav_menu": {},
   "number_sections": true,
   "sideBar": true,
   "skip_h1_title": true,
   "title_cell": "Table of Contents",
   "title_sidebar": "Contents",
   "toc_cell": false,
   "toc_position": {
    "height": "calc(100% - 180px)",
    "left": "10px",
    "top": "150px",
    "width": "288px"
   },
   "toc_section_display": true,
   "toc_window_display": true
  }
 },
 "nbformat": 4,
 "nbformat_minor": 5
}
