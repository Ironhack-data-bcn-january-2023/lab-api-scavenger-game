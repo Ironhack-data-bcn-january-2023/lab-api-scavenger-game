{
 "cells": [
  {
   "cell_type": "markdown",
   "id": "defensive-clock",
   "metadata": {},
   "source": [
    "# Challenge 3: Hidden Cold Joke\n",
    "\n",
    "Using Python, call Github API to find out the cold joke contained in the 24 secret files in the following repo:\n",
    "\n",
    "https://github.com/ironhack-datalabs/scavenger\n",
    "\n",
    "The filenames of the secret files contain .scavengerhunt and they are scattered in different directories of this repo. The secret files are named from .0001.scavengerhunt to .0024.scavengerhunt. They are scattered randomly throughout this repo. You need to search for these files by calling the Github API, not searching the local files on your computer.\n",
    "\n",
    "\n",
    "After you find out the secrete files:\n",
    "\n",
    "Sort the filenames ascendingly.\n",
    "\n",
    "Read the content of each secret files into an array of strings.\n",
    "\n",
    "Concatenate the strings in the array separating each two with a whitespace.\n",
    "\n",
    "Print out the joke."
   ]
  },
  {
   "cell_type": "markdown",
   "id": "universal-length",
   "metadata": {},
   "source": [
    "⚠️ **Remember to limit your output before submission**."
   ]
  },
  {
   "cell_type": "code",
   "execution_count": 1,
   "id": "toxic-trading",
   "metadata": {},
   "outputs": [
    {
     "data": {
      "text/plain": [
       "True"
      ]
     },
     "execution_count": 1,
     "metadata": {},
     "output_type": "execute_result"
    }
   ],
   "source": [
    "# Your code\n",
    "\n",
    "import json\n",
    "import requests\n",
    "import pandas as pd\n",
    "import os\n",
    "from dotenv import load_dotenv\n",
    "load_dotenv()\n",
    "import base64"
   ]
  },
  {
   "cell_type": "code",
   "execution_count": 21,
   "id": "static-stopping",
   "metadata": {},
   "outputs": [],
   "source": [
    "github_token = os.getenv(\"token\")\n",
    "\n",
    "owner = 'ironhack-datalabs'\n",
    "repo = 'scavenger'\n",
    "url = f\"https://api.github.com/repos/{owner}/{repo}/contents\"\n",
    "parameters = {\"Authorization\": f\"token {github_token}\"}\n",
    "\n",
    "# Example: print(variable[:10]) "
   ]
  },
  {
   "cell_type": "code",
   "execution_count": 22,
   "id": "3f2dff58",
   "metadata": {},
   "outputs": [
    {
     "data": {
      "text/plain": [
       "<Response [200]>"
      ]
     },
     "execution_count": 22,
     "metadata": {},
     "output_type": "execute_result"
    }
   ],
   "source": [
    "request1 = requests.get(url, params = parameters)\n",
    "request1"
   ]
  },
  {
   "cell_type": "code",
   "execution_count": 25,
   "id": "ccfcfa6c",
   "metadata": {},
   "outputs": [
    {
     "ename": "AttributeError",
     "evalue": "'list' object has no attribute 'json'",
     "output_type": "error",
     "traceback": [
      "\u001b[1;31m---------------------------------------------------------------------------\u001b[0m",
      "\u001b[1;31mAttributeError\u001b[0m                            Traceback (most recent call last)",
      "\u001b[1;32mc:\\Users\\sergi\\Documents\\IronHack\\labs\\Week3\\lab-api-scavenger-game-sergi\\your-code\\challenge-3.ipynb Cell 6\u001b[0m in \u001b[0;36m<cell line: 1>\u001b[1;34m()\u001b[0m\n\u001b[1;32m----> <a href='vscode-notebook-cell:/c%3A/Users/sergi/Documents/IronHack/labs/Week3/lab-api-scavenger-game-sergi/your-code/challenge-3.ipynb#W5sZmlsZQ%3D%3D?line=0'>1</a>\u001b[0m request1\u001b[39m=\u001b[39mrequest1\u001b[39m.\u001b[39;49mjson()\n\u001b[0;32m      <a href='vscode-notebook-cell:/c%3A/Users/sergi/Documents/IronHack/labs/Week3/lab-api-scavenger-game-sergi/your-code/challenge-3.ipynb#W5sZmlsZQ%3D%3D?line=1'>2</a>\u001b[0m requestdf\u001b[39m=\u001b[39mpd\u001b[39m.\u001b[39mDataFrame(request1)\n\u001b[0;32m      <a href='vscode-notebook-cell:/c%3A/Users/sergi/Documents/IronHack/labs/Week3/lab-api-scavenger-game-sergi/your-code/challenge-3.ipynb#W5sZmlsZQ%3D%3D?line=2'>3</a>\u001b[0m requestdf[\u001b[39m'\u001b[39m\u001b[39mpath\u001b[39m\u001b[39m'\u001b[39m]\n",
      "\u001b[1;31mAttributeError\u001b[0m: 'list' object has no attribute 'json'"
     ]
    }
   ],
   "source": [
    "request1=request1.json()\n",
    "requestdf=pd.DataFrame(request1)\n"
   ]
  },
  {
   "cell_type": "code",
   "execution_count": 46,
   "id": "6af3a0ff",
   "metadata": {},
   "outputs": [],
   "source": [
    "typefilter = requestdf[requestdf['type']=='dir']\n",
    "list_request = list(typefilter['path'])\n",
    "list_of_files = []\n",
    "for i in list_request:\n",
    "    url = f\"https://api.github.com/repos/{owner}/{repo}/contents/{i}\"\n",
    "    request = requests.get(url, params = parameters).json()\n",
    "    df= pd.DataFrame(request)\n",
    "    list_of_files.append(list(df['path']))\n",
    "\n",
    "    \n"
   ]
  },
  {
   "cell_type": "code",
   "execution_count": 47,
   "id": "8503025e",
   "metadata": {},
   "outputs": [
    {
     "data": {
      "text/plain": [
       "['15024/.0006.scavengerhunt',\n",
       " '15534/.0008.scavengerhunt',\n",
       " '15534/.0012.scavengerhunt',\n",
       " '17020/.0007.scavengerhunt',\n",
       " '30351/.0021.scavengerhunt',\n",
       " '40303/.0022.scavengerhunt',\n",
       " '44639/.0005.scavengerhunt',\n",
       " '45525/.0018.scavengerhunt',\n",
       " '47222/.0016.scavengerhunt',\n",
       " '47222/.0024.scavengerhunt',\n",
       " '47830/.0010.scavengerhunt',\n",
       " '49418/.0014.scavengerhunt',\n",
       " '50896/.0011.scavengerhunt',\n",
       " '55417/.0023.scavengerhunt',\n",
       " '55685/.0020.scavengerhunt',\n",
       " '60224/.0003.scavengerhunt',\n",
       " '68848/.0004.scavengerhunt',\n",
       " '70751/.0019.scavengerhunt',\n",
       " '70985/.0017.scavengerhunt',\n",
       " '88596/.0002.scavengerhunt',\n",
       " '89338/.0013.scavengerhunt',\n",
       " '91701/.0015.scavengerhunt',\n",
       " '97881/.0009.scavengerhunt',\n",
       " '98750/.0001.scavengerhunt']"
      ]
     },
     "execution_count": 47,
     "metadata": {},
     "output_type": "execute_result"
    }
   ],
   "source": [
    "supreme_list_directories = [valor for mini_list in list_of_files for valor in mini_list ]\n",
    "directories_list = []\n",
    "for i in supreme_list_directories:\n",
    "    if 'scavengerhunt' in i:\n",
    "        directories_list.append(i)\n",
    "directories_list"
   ]
  },
  {
   "cell_type": "code",
   "execution_count": 54,
   "id": "6c50beab",
   "metadata": {},
   "outputs": [
    {
     "data": {
      "text/html": [
       "<div>\n",
       "<style scoped>\n",
       "    .dataframe tbody tr th:only-of-type {\n",
       "        vertical-align: middle;\n",
       "    }\n",
       "\n",
       "    .dataframe tbody tr th {\n",
       "        vertical-align: top;\n",
       "    }\n",
       "\n",
       "    .dataframe thead th {\n",
       "        text-align: right;\n",
       "    }\n",
       "</style>\n",
       "<table border=\"1\" class=\"dataframe\">\n",
       "  <thead>\n",
       "    <tr style=\"text-align: right;\">\n",
       "      <th></th>\n",
       "      <th>0</th>\n",
       "      <th>name</th>\n",
       "    </tr>\n",
       "  </thead>\n",
       "  <tbody>\n",
       "    <tr>\n",
       "      <th>23</th>\n",
       "      <td>98750/.0001.scavengerhunt</td>\n",
       "      <td>0001</td>\n",
       "    </tr>\n",
       "    <tr>\n",
       "      <th>19</th>\n",
       "      <td>88596/.0002.scavengerhunt</td>\n",
       "      <td>0002</td>\n",
       "    </tr>\n",
       "    <tr>\n",
       "      <th>15</th>\n",
       "      <td>60224/.0003.scavengerhunt</td>\n",
       "      <td>0003</td>\n",
       "    </tr>\n",
       "    <tr>\n",
       "      <th>16</th>\n",
       "      <td>68848/.0004.scavengerhunt</td>\n",
       "      <td>0004</td>\n",
       "    </tr>\n",
       "    <tr>\n",
       "      <th>6</th>\n",
       "      <td>44639/.0005.scavengerhunt</td>\n",
       "      <td>0005</td>\n",
       "    </tr>\n",
       "    <tr>\n",
       "      <th>0</th>\n",
       "      <td>15024/.0006.scavengerhunt</td>\n",
       "      <td>0006</td>\n",
       "    </tr>\n",
       "    <tr>\n",
       "      <th>3</th>\n",
       "      <td>17020/.0007.scavengerhunt</td>\n",
       "      <td>0007</td>\n",
       "    </tr>\n",
       "    <tr>\n",
       "      <th>1</th>\n",
       "      <td>15534/.0008.scavengerhunt</td>\n",
       "      <td>0008</td>\n",
       "    </tr>\n",
       "    <tr>\n",
       "      <th>22</th>\n",
       "      <td>97881/.0009.scavengerhunt</td>\n",
       "      <td>0009</td>\n",
       "    </tr>\n",
       "    <tr>\n",
       "      <th>10</th>\n",
       "      <td>47830/.0010.scavengerhunt</td>\n",
       "      <td>0010</td>\n",
       "    </tr>\n",
       "    <tr>\n",
       "      <th>12</th>\n",
       "      <td>50896/.0011.scavengerhunt</td>\n",
       "      <td>0011</td>\n",
       "    </tr>\n",
       "    <tr>\n",
       "      <th>2</th>\n",
       "      <td>15534/.0012.scavengerhunt</td>\n",
       "      <td>0012</td>\n",
       "    </tr>\n",
       "    <tr>\n",
       "      <th>20</th>\n",
       "      <td>89338/.0013.scavengerhunt</td>\n",
       "      <td>0013</td>\n",
       "    </tr>\n",
       "    <tr>\n",
       "      <th>11</th>\n",
       "      <td>49418/.0014.scavengerhunt</td>\n",
       "      <td>0014</td>\n",
       "    </tr>\n",
       "    <tr>\n",
       "      <th>21</th>\n",
       "      <td>91701/.0015.scavengerhunt</td>\n",
       "      <td>0015</td>\n",
       "    </tr>\n",
       "    <tr>\n",
       "      <th>8</th>\n",
       "      <td>47222/.0016.scavengerhunt</td>\n",
       "      <td>0016</td>\n",
       "    </tr>\n",
       "    <tr>\n",
       "      <th>18</th>\n",
       "      <td>70985/.0017.scavengerhunt</td>\n",
       "      <td>0017</td>\n",
       "    </tr>\n",
       "    <tr>\n",
       "      <th>7</th>\n",
       "      <td>45525/.0018.scavengerhunt</td>\n",
       "      <td>0018</td>\n",
       "    </tr>\n",
       "    <tr>\n",
       "      <th>17</th>\n",
       "      <td>70751/.0019.scavengerhunt</td>\n",
       "      <td>0019</td>\n",
       "    </tr>\n",
       "    <tr>\n",
       "      <th>14</th>\n",
       "      <td>55685/.0020.scavengerhunt</td>\n",
       "      <td>0020</td>\n",
       "    </tr>\n",
       "    <tr>\n",
       "      <th>4</th>\n",
       "      <td>30351/.0021.scavengerhunt</td>\n",
       "      <td>0021</td>\n",
       "    </tr>\n",
       "    <tr>\n",
       "      <th>5</th>\n",
       "      <td>40303/.0022.scavengerhunt</td>\n",
       "      <td>0022</td>\n",
       "    </tr>\n",
       "    <tr>\n",
       "      <th>13</th>\n",
       "      <td>55417/.0023.scavengerhunt</td>\n",
       "      <td>0023</td>\n",
       "    </tr>\n",
       "    <tr>\n",
       "      <th>9</th>\n",
       "      <td>47222/.0024.scavengerhunt</td>\n",
       "      <td>0024</td>\n",
       "    </tr>\n",
       "  </tbody>\n",
       "</table>\n",
       "</div>"
      ],
      "text/plain": [
       "                            0  name\n",
       "23  98750/.0001.scavengerhunt  0001\n",
       "19  88596/.0002.scavengerhunt  0002\n",
       "15  60224/.0003.scavengerhunt  0003\n",
       "16  68848/.0004.scavengerhunt  0004\n",
       "6   44639/.0005.scavengerhunt  0005\n",
       "0   15024/.0006.scavengerhunt  0006\n",
       "3   17020/.0007.scavengerhunt  0007\n",
       "1   15534/.0008.scavengerhunt  0008\n",
       "22  97881/.0009.scavengerhunt  0009\n",
       "10  47830/.0010.scavengerhunt  0010\n",
       "12  50896/.0011.scavengerhunt  0011\n",
       "2   15534/.0012.scavengerhunt  0012\n",
       "20  89338/.0013.scavengerhunt  0013\n",
       "11  49418/.0014.scavengerhunt  0014\n",
       "21  91701/.0015.scavengerhunt  0015\n",
       "8   47222/.0016.scavengerhunt  0016\n",
       "18  70985/.0017.scavengerhunt  0017\n",
       "7   45525/.0018.scavengerhunt  0018\n",
       "17  70751/.0019.scavengerhunt  0019\n",
       "14  55685/.0020.scavengerhunt  0020\n",
       "4   30351/.0021.scavengerhunt  0021\n",
       "5   40303/.0022.scavengerhunt  0022\n",
       "13  55417/.0023.scavengerhunt  0023\n",
       "9   47222/.0024.scavengerhunt  0024"
      ]
     },
     "execution_count": 54,
     "metadata": {},
     "output_type": "execute_result"
    }
   ],
   "source": [
    "directoriesdf = pd.DataFrame(directories_list)\n",
    "def get_value (row):\n",
    "    value=row[0].split('.')[1]\n",
    "    return value\n",
    "    \n",
    "\n",
    "directoriesdf['name']=directoriesdf.apply(get_value,axis=1)\n",
    "directoriesdf.sort_values(by='name', inplace=True)\n",
    "directoriesdf"
   ]
  },
  {
   "cell_type": "code",
   "execution_count": 76,
   "id": "d186edbe",
   "metadata": {},
   "outputs": [
    {
     "name": "stdout",
     "output_type": "stream",
     "text": [
      "['98750/.0001.scavengerhunt', '88596/.0002.scavengerhunt', '60224/.0003.scavengerhunt', '68848/.0004.scavengerhunt', '44639/.0005.scavengerhunt', '15024/.0006.scavengerhunt', '17020/.0007.scavengerhunt', '15534/.0008.scavengerhunt', '97881/.0009.scavengerhunt', '47830/.0010.scavengerhunt', '50896/.0011.scavengerhunt', '15534/.0012.scavengerhunt', '89338/.0013.scavengerhunt', '49418/.0014.scavengerhunt', '91701/.0015.scavengerhunt', '47222/.0016.scavengerhunt', '70985/.0017.scavengerhunt', '45525/.0018.scavengerhunt', '70751/.0019.scavengerhunt', '55685/.0020.scavengerhunt', '30351/.0021.scavengerhunt', '40303/.0022.scavengerhunt', '55417/.0023.scavengerhunt', '47222/.0024.scavengerhunt']\n",
      "[]\n"
     ]
    }
   ],
   "source": [
    "owner = 'ironhack-datalabs'\n",
    "repo = 'scavenger'\n",
    "parameters = {\"Authorization\": f\"token {github_token}\"}\n",
    "list_of_i = list(directoriesdf[0])\n",
    "list_of_strings = []\n",
    "list_of_i\n",
    "print(list_of_i)\n",
    "print(list_of_strings)"
   ]
  },
  {
   "cell_type": "code",
   "execution_count": 81,
   "id": "fc893c25",
   "metadata": {},
   "outputs": [
    {
     "name": "stdout",
     "output_type": "stream",
     "text": [
      "ironhack-datalabs\n",
      "scavenger\n",
      "98750/.0001.scavengerhunt\n",
      "88596/.0002.scavengerhunt\n",
      "60224/.0003.scavengerhunt\n",
      "68848/.0004.scavengerhunt\n",
      "44639/.0005.scavengerhunt\n",
      "15024/.0006.scavengerhunt\n",
      "17020/.0007.scavengerhunt\n",
      "15534/.0008.scavengerhunt\n",
      "97881/.0009.scavengerhunt\n",
      "47830/.0010.scavengerhunt\n",
      "50896/.0011.scavengerhunt\n",
      "15534/.0012.scavengerhunt\n",
      "89338/.0013.scavengerhunt\n",
      "49418/.0014.scavengerhunt\n",
      "91701/.0015.scavengerhunt\n",
      "47222/.0016.scavengerhunt\n",
      "70985/.0017.scavengerhunt\n",
      "45525/.0018.scavengerhunt\n",
      "70751/.0019.scavengerhunt\n",
      "55685/.0020.scavengerhunt\n",
      "30351/.0021.scavengerhunt\n",
      "40303/.0022.scavengerhunt\n",
      "55417/.0023.scavengerhunt\n",
      "47222/.0024.scavengerhunt\n"
     ]
    }
   ],
   "source": [
    "print(owner)\n",
    "print(repo)\n",
    "for i in list_of_i:\n",
    "    print(i)"
   ]
  },
  {
   "cell_type": "code",
   "execution_count": 84,
   "id": "312cfe72",
   "metadata": {},
   "outputs": [
    {
     "data": {
      "text/plain": [
       "['SW4K\\n',\n",
       " 'ZGF0YQo=\\n',\n",
       " 'c2NpZW5jZSwK\\n',\n",
       " 'ODAK\\n',\n",
       " 'cGVyY2VudAo=\\n',\n",
       " 'b2YK\\n',\n",
       " 'dGltZQo=\\n',\n",
       " 'c3BlbnQK\\n',\n",
       " 'aXMK\\n',\n",
       " 'cHJlcGFyaW5nCg==\\n',\n",
       " 'ZGF0YSwK\\n',\n",
       " 'MjAK\\n',\n",
       " 'cGVyY2VudAo=\\n',\n",
       " 'b2YK\\n',\n",
       " 'dGltZQo=\\n',\n",
       " 'aXMK\\n',\n",
       " 'c3BlbnQK\\n',\n",
       " 'Y29tcGxhaW5pbmcK\\n',\n",
       " 'YWJvdXQK\\n',\n",
       " 'dGhlCg==\\n',\n",
       " 'bmVlZAo=\\n',\n",
       " 'dG8K\\n',\n",
       " 'cHJlcGFyZQo=\\n',\n",
       " 'ZGF0YS4K\\n']"
      ]
     },
     "execution_count": 84,
     "metadata": {},
     "output_type": "execute_result"
    }
   ],
   "source": [
    "for i in list_of_i:\n",
    "    url = f\"https://api.github.com/repos/{owner}/{repo}/contents/{i}\"\n",
    "    request = requests.get(url, params = parameters).json()\n",
    "    list_of_strings.append(request['content'])\n",
    "list_of_strings"
   ]
  },
  {
   "cell_type": "code",
   "execution_count": 94,
   "id": "cbfc8418",
   "metadata": {},
   "outputs": [
    {
     "name": "stdout",
     "output_type": "stream",
     "text": [
      "In\n",
      "data\n",
      "science,\n",
      "80\n",
      "percent\n",
      "of\n",
      "time\n",
      "spent\n",
      "is\n",
      "preparing\n",
      "data,\n",
      "20\n",
      "percent\n",
      "of\n",
      "time\n",
      "is\n",
      "spent\n",
      "complaining\n",
      "about\n",
      "the\n",
      "need\n",
      "to\n",
      "prepare\n",
      "data.\n",
      "\n"
     ]
    }
   ],
   "source": [
    "\n",
    "decoded_list =[]\n",
    "for i in list_of_strings:\n",
    "    decoded_list.append(base64.b64decode(i).decode('utf-8'))\n",
    "print(''.join(decoded_list))\n",
    "\n"
   ]
  }
 ],
 "metadata": {
  "kernelspec": {
   "display_name": "ironhack",
   "language": "python",
   "name": "python3"
  },
  "language_info": {
   "codemirror_mode": {
    "name": "ipython",
    "version": 3
   },
   "file_extension": ".py",
   "mimetype": "text/x-python",
   "name": "python",
   "nbconvert_exporter": "python",
   "pygments_lexer": "ipython3",
   "version": "3.10.4"
  },
  "toc": {
   "base_numbering": 1,
   "nav_menu": {},
   "number_sections": true,
   "sideBar": true,
   "skip_h1_title": true,
   "title_cell": "Table of Contents",
   "title_sidebar": "Contents",
   "toc_cell": false,
   "toc_position": {},
   "toc_section_display": true,
   "toc_window_display": true
  },
  "vscode": {
   "interpreter": {
    "hash": "1c9444b68867c30d2a4961dc1929e1f150fc2464829f75445635b349ec40f9a7"
   }
  }
 },
 "nbformat": 4,
 "nbformat_minor": 5
}
