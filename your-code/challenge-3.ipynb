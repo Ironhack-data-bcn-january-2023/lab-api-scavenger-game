{
 "cells": [
  {
   "cell_type": "markdown",
   "id": "defensive-clock",
   "metadata": {},
   "source": [
    "# Challenge 3: Hidden Cold Joke\n",
    "\n",
    "Using Python, call Github API to find out the cold joke contained in the 24 secret files in the following repo:\n",
    "\n",
    "https://github.com/ironhack-datalabs/scavenger\n",
    "\n",
    "The filenames of the secret files contain .scavengerhunt and they are scattered in different directories of this repo. The secret files are named from .0001.scavengerhunt to .0024.scavengerhunt. They are scattered randomly throughout this repo. You need to search for these files by calling the Github API, not searching the local files on your computer.\n",
    "\n",
    "\n",
    "After you find out the secrete files:\n",
    "\n",
    "Sort the filenames ascendingly.\n",
    "\n",
    "Read the content of each secret files into an array of strings.\n",
    "\n",
    "Concatenate the strings in the array separating each two with a whitespace.\n",
    "\n",
    "Print out the joke."
   ]
  },
  {
   "cell_type": "markdown",
   "id": "universal-length",
   "metadata": {},
   "source": [
    "⚠️ **Remember to limit your output before submission**."
   ]
  },
  {
   "cell_type": "code",
   "execution_count": 1,
   "id": "51efe3f2",
   "metadata": {},
   "outputs": [],
   "source": [
    "import json\n",
    "import requests\n",
    "import os\n",
    "from dotenv import load_dotenv\n",
    "from datetime import datetime"
   ]
  },
  {
   "cell_type": "code",
   "execution_count": 2,
   "id": "3f0aef4c",
   "metadata": {},
   "outputs": [
    {
     "data": {
      "text/plain": [
       "True"
      ]
     },
     "execution_count": 2,
     "metadata": {},
     "output_type": "execute_result"
    }
   ],
   "source": [
    "load_dotenv()"
   ]
  },
  {
   "cell_type": "code",
   "execution_count": 3,
   "id": "developing-printing",
   "metadata": {},
   "outputs": [],
   "source": [
    "github_token = os.getenv(\"git_pass\")\n",
    "url =  f\"https://api.github.com/repos/ironhack-datalabs/scavenger/contents\"\n",
    "parameters = {\"Authorization\": f\"token {github_token}\"}\n",
    "res = requests.get(url, params = parameters).json()"
   ]
  },
  {
   "cell_type": "code",
   "execution_count": 51,
   "id": "579bb35a",
   "metadata": {},
   "outputs": [],
   "source": [
    "list2 = [res[i][\"url\"] for i in range(len(res))]"
   ]
  },
  {
   "cell_type": "code",
   "execution_count": 72,
   "id": "d02f2602",
   "metadata": {},
   "outputs": [],
   "source": [
    "list3 = [requests.get(list2[i], params = parameters).json() for i in range(len(list2))]"
   ]
  },
  {
   "cell_type": "code",
   "execution_count": 92,
   "id": "209c9557",
   "metadata": {},
   "outputs": [],
   "source": [
    "list4 = [list3[i][j][\"download_url\"] for i in range(1,len(list3)) for j in range(len(list3[i])) if \".scavengerhunt\" in list3[i][j][\"download_url\"]]\n",
    "\n"
   ]
  },
  {
   "cell_type": "code",
   "execution_count": 115,
   "id": "5011431a",
   "metadata": {},
   "outputs": [
    {
     "data": {
      "text/plain": [
       "6"
      ]
     },
     "execution_count": 115,
     "metadata": {},
     "output_type": "execute_result"
    }
   ],
   "source": [
    "sorted_list = sorted(list4, key= lambda x: int(x.split(\"/\")[-1].split(\".\")[1]))"
   ]
  },
  {
   "cell_type": "code",
   "execution_count": 119,
   "id": "79fc67a0",
   "metadata": {},
   "outputs": [],
   "source": [
    "secret = [requests.get(sorted_list[i]).text for i in range(len(sorted_list))]"
   ]
  },
  {
   "cell_type": "code",
   "execution_count": 125,
   "id": "c320800e",
   "metadata": {},
   "outputs": [
    {
     "data": {
      "text/plain": [
       "'In data science, 80 percent of time spent is preparing data, 20 percent of time is spent complaining about the need to prepare data. '"
      ]
     },
     "execution_count": 125,
     "metadata": {},
     "output_type": "execute_result"
    }
   ],
   "source": [
    "secret_formatted = \"\".join(secret).replace(\"\\n\",\" \")\n",
    "secret_formatted"
   ]
  },
  {
   "cell_type": "code",
   "execution_count": null,
   "id": "1ddf53ce",
   "metadata": {},
   "outputs": [],
   "source": []
  }
 ],
 "metadata": {
  "kernelspec": {
   "display_name": "ironhack",
   "language": "python",
   "name": "ironhack"
  },
  "language_info": {
   "codemirror_mode": {
    "name": "ipython",
    "version": 3
   },
   "file_extension": ".py",
   "mimetype": "text/x-python",
   "name": "python",
   "nbconvert_exporter": "python",
   "pygments_lexer": "ipython3",
   "version": "3.10.8"
  },
  "toc": {
   "base_numbering": 1,
   "nav_menu": {},
   "number_sections": true,
   "sideBar": true,
   "skip_h1_title": true,
   "title_cell": "Table of Contents",
   "title_sidebar": "Contents",
   "toc_cell": false,
   "toc_position": {},
   "toc_section_display": true,
   "toc_window_display": true
  }
 },
 "nbformat": 4,
 "nbformat_minor": 5
}
